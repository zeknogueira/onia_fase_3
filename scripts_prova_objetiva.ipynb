{
 "cells": [
  {
   "cell_type": "code",
   "execution_count": null,
   "id": "f533cbbe-7b14-473b-9eec-63b27ef73e19",
   "metadata": {},
   "outputs": [],
   "source": [
    "# questao 1: B) print(S2, S3, S1, S5, S4)"
   ]
  },
  {
   "cell_type": "code",
   "execution_count": null,
   "id": "6242e7c8-92b2-45a8-b43a-efc1bb54ef05",
   "metadata": {},
   "outputs": [],
   "source": [
    "# questao 2: B) m = (s1 + s2 + s3) / 3\n",
    "\n",
    "s1 = float(input())\n",
    "s2 = float(input())\n",
    "s3 = float(input())\n",
    "\n",
    "#s1 = 2\n",
    "#s2 = 2\n",
    "#s3 = 2\n",
    "\n",
    "m = (s1 + s2 + s3) / 3\n",
    "\n",
    "# m = float(s1 + s2 + s3) / 3\n",
    "\n",
    "# m = float(s1 + s2 + s3 / 3)\n",
    "print(m)\n"
   ]
  },
  {
   "cell_type": "code",
   "execution_count": null,
   "id": "70f3316f-137e-4937-808e-ded86181b381",
   "metadata": {},
   "outputs": [],
   "source": []
  },
  {
   "cell_type": "code",
   "execution_count": 5,
   "id": "7d853a7c-daf0-4628-8f1f-d377255a5eac",
   "metadata": {},
   "outputs": [
    {
     "name": "stdout",
     "output_type": "stream",
     "text": [
      "banana\n"
     ]
    }
   ],
   "source": [
    "# questao 3: B) print(b[8] + a[2] + a[3] + a[2] + a[3] + a[2])\n",
    "\n",
    "a = \"Alan Turing\"\n",
    "b = \"Steve Jobs\"\n",
    "\n",
    "print(b[8] + a[2] + a[3] + a[2] + a[3] + a[2])\n"
   ]
  },
  {
   "cell_type": "code",
   "execution_count": null,
   "id": "76335a47-8903-453a-b08d-8605d7652f66",
   "metadata": {},
   "outputs": [],
   "source": [
    "# questao 4: A) todas.\n",
    "\n",
    "v = [\"A\", \"B\", \"A\", \"C\", \"C\", \"A\", \"C\", \"C\", \"B\", \"A\"]\n",
    "\n",
    "r = [[\"A\", 0], [\"B\", 0], [\"C\", 0]]\n",
    "\n",
    "for i in range(len(v)):\n",
    "\n",
    "    for j in range(len(r)):\n",
    "\n",
    "        if v[i] == r[j][0]:\n",
    "\n",
    "            r[j][1] += 1\n",
    "\n",
    "print(r)"
   ]
  },
  {
   "cell_type": "code",
   "execution_count": 6,
   "id": "b583b14a-eab1-44be-857e-433b0e56af90",
   "metadata": {},
   "outputs": [
    {
     "name": "stdout",
     "output_type": "stream",
     "text": [
      "7\n"
     ]
    }
   ],
   "source": [
    "# questao 5: A) 7\n",
    "\n",
    "x = 5\n",
    "\n",
    "x = x + 2\n",
    "\n",
    "print(x)"
   ]
  },
  {
   "cell_type": "code",
   "execution_count": null,
   "id": "970a1ef2-4e97-49f6-877c-00d7ec7082a1",
   "metadata": {},
   "outputs": [],
   "source": [
    "# questao 6: D) Trata-se de um programa que prevê o valor do último elemento de uma progressão aritmética com valor inicial a0, razão r e total de elementos n.\n",
    "\n",
    "def v_prog(a0, r, n):\n",
    "\n",
    "    a_n = a0\n",
    "\n",
    "    for i in range(n):\n",
    "\n",
    "        a_n = a_n + r\n",
    "\n",
    "    return print(a_n)"
   ]
  },
  {
   "cell_type": "code",
   "execution_count": 2,
   "id": "662d3192-376b-4b6c-8372-ba4eadfbab38",
   "metadata": {},
   "outputs": [
    {
     "name": "stdout",
     "output_type": "stream",
     "text": [
      "[1, 1, 2, 3, 5, 8]\n"
     ]
    }
   ],
   "source": [
    "# questao 7: A) A função retorna a sequência [1, 1, 2, 3, 5, 8] e imprime a mesma sequência.\n",
    "\n",
    "\n",
    "\n",
    "def Fib(n):\n",
    "    F0 = [1,1]\n",
    "\n",
    "    for i in range(2,n):\n",
    "\n",
    "        F0. append(F0[i-2] + F0[i-1])\n",
    "\n",
    "    return print(F0)\n",
    "\n",
    "\n",
    "\n",
    "\n",
    "Fib(6)"
   ]
  },
  {
   "cell_type": "code",
   "execution_count": 7,
   "id": "98f56278-6046-48e8-8f4e-eb77786de3d4",
   "metadata": {},
   "outputs": [
    {
     "name": "stdout",
     "output_type": "stream",
     "text": [
      "0\n",
      "\n",
      "1\n",
      "\n",
      "2\n",
      "\n"
     ]
    }
   ],
   "source": [
    "# questao 8: C) III, apenas.\n",
    "\n",
    "\n",
    "def cont(n):\n",
    "    a = 0\n",
    "\n",
    "    while n >= a:\n",
    "\n",
    "\n",
    "        print(str(a) + \"\\n\") \n",
    "        a = a + 1\n",
    "        \n",
    "        \n",
    "        \n",
    "        \n",
    "\n",
    "    return\n",
    "\n",
    "cont(2)\n",
    "\n"
   ]
  },
  {
   "cell_type": "code",
   "execution_count": 11,
   "id": "71c30eca-d4eb-4521-845b-618bdad5e597",
   "metadata": {},
   "outputs": [
    {
     "name": "stdout",
     "output_type": "stream",
     "text": [
      "False\n",
      "True\n",
      "False\n",
      "<class 'float'>\n"
     ]
    }
   ],
   "source": [
    "# questao 9:E) Todas.\n",
    "\n",
    "a = 5\n",
    "b = 7.2\n",
    "c = 2.2\n",
    "\n",
    "print(type(a) == type(c))\n",
    "print(a == b -c)\n",
    "\n",
    "print(type(a) == type(b-c))\n",
    "\n",
    "print(type(b-c))\n",
    "    "
   ]
  },
  {
   "cell_type": "code",
   "execution_count": 9,
   "id": "f0005df0-75fd-47c1-8503-1fcc966435dc",
   "metadata": {},
   "outputs": [
    {
     "name": "stdout",
     "output_type": "stream",
     "text": [
      "[72, 27, 18, 21, 15, 13, 8]\n"
     ]
    }
   ],
   "source": [
    "# questao 10: C)\n",
    "\n",
    "#a\n",
    "\n",
    "\n",
    "#A = [99, 45, 39, 36, 28, 21]\n",
    "\n",
    "#x = 72\n",
    "\n",
    "#for i in range(len(A)):\n",
    "\n",
    " #   x = x + (A[i] - x[i]) #erro aqui: x não pode ser indexado com lista porque é int\n",
    "\n",
    "#print(x)\n",
    "\n",
    "#b\n",
    "\n",
    "\n",
    "#A = [99, 45, 39, 36, 28, 21]\n",
    "\n",
    "#x = 72\n",
    "#for i in range(len(x)): #erro aqui: x não tem len porque é int\n",
    "\n",
    " # x = x + (A[i] - x[i]) #erro aqui: x não pode ser indexado com lista porque é int\n",
    "    \n",
    "    \n",
    "#print(x)\n",
    "\n",
    "\n",
    "#c\n",
    "\n",
    "A = [99, 45, 39, 36, 28, 21]\n",
    "\n",
    "x = [72]\n",
    "\n",
    "for i in range(len(A)): \n",
    "    \n",
    "  x = x + [(A[i] - x[i])] \n",
    "    \n",
    "    \n",
    "print(x)\n",
    "\n",
    "\n",
    "\n",
    "#d\n",
    "\n",
    "#A = [99, 45, 39, 36, 28, 21]\n",
    "\n",
    "#x = 72\n",
    "\n",
    "#for i in range(len(x)): #erro aqui: x não tem len porque é int\n",
    "\n",
    "    \n",
    " # x = x + [(A[i] - x[i])] #erro aqui: x não pode ser indexado com lista porque é int\n",
    "    \n",
    "    \n",
    "#print(x)\n",
    "\n",
    "\n",
    "#e\n",
    "\n",
    "#A = [99, 45, 39, 36, 28, 21]\n",
    "\n",
    "#x = 72\n",
    "\n",
    "#for i in range(len(x)): #erro aqui: x não tem len porque é int\n",
    "\n",
    "    \n",
    " # x = x + [(A[i] - x[i])] #erro aqui: x não pode ser indexado com lista porque é int\n",
    "    \n",
    "    \n",
    "#print(A)\n",
    "\n"
   ]
  },
  {
   "cell_type": "code",
   "execution_count": null,
   "id": "d2438ae9-4ead-4398-a408-ff926ab89f13",
   "metadata": {},
   "outputs": [],
   "source": []
  }
 ],
 "metadata": {
  "kernelspec": {
   "display_name": "Python 3 (ipykernel)",
   "language": "python",
   "name": "python3"
  },
  "language_info": {
   "codemirror_mode": {
    "name": "ipython",
    "version": 3
   },
   "file_extension": ".py",
   "mimetype": "text/x-python",
   "name": "python",
   "nbconvert_exporter": "python",
   "pygments_lexer": "ipython3",
   "version": "3.12.3"
  }
 },
 "nbformat": 4,
 "nbformat_minor": 5
}
